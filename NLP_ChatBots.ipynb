{
  "nbformat": 4,
  "nbformat_minor": 0,
  "metadata": {
    "colab": {
      "name": "NLP-ChatBots.ipynb",
      "provenance": [],
      "collapsed_sections": [],
      "authorship_tag": "ABX9TyMO2uW95rm0mKOKQg2yAxRm",
      "include_colab_link": true
    },
    "kernelspec": {
      "name": "python3",
      "display_name": "Python 3"
    },
    "language_info": {
      "name": "python"
    }
  },
  "cells": [
    {
      "cell_type": "markdown",
      "metadata": {
        "id": "view-in-github",
        "colab_type": "text"
      },
      "source": [
        "<a href=\"https://colab.research.google.com/github/mr-alamdari/NLP-ChatBots/blob/main/NLP_ChatBots.ipynb\" target=\"_parent\"><img src=\"https://colab.research.google.com/assets/colab-badge.svg\" alt=\"Open In Colab\"/></a>"
      ]
    },
    {
      "cell_type": "code",
      "execution_count": 42,
      "metadata": {
        "id": "-NSl76IaDGSP"
      },
      "outputs": [],
      "source": [
        "import pickle\n",
        "import numpy as np\n",
        "import pandas as pd\n",
        "import tensorflow as tf"
      ]
    },
    {
      "cell_type": "code",
      "source": [
        "!wget https://raw.githubusercontent.com/mr-alamdari/NLP-ChatBots/main/train_qa.txt"
      ],
      "metadata": {
        "colab": {
          "base_uri": "https://localhost:8080/"
        },
        "id": "bU4zEBfkZRhM",
        "outputId": "bf4bd321-9618-4b5c-d6a0-1f83a811ed3a"
      },
      "execution_count": 6,
      "outputs": [
        {
          "output_type": "stream",
          "name": "stdout",
          "text": [
            "--2022-05-02 06:13:25--  https://raw.githubusercontent.com/mr-alamdari/NLP-ChatBots/main/train_qa.txt\n",
            "Resolving raw.githubusercontent.com (raw.githubusercontent.com)... 185.199.108.133, 185.199.109.133, 185.199.110.133, ...\n",
            "Connecting to raw.githubusercontent.com (raw.githubusercontent.com)|185.199.108.133|:443... connected.\n",
            "HTTP request sent, awaiting response... 200 OK\n",
            "Length: 3804342 (3.6M) [application/octet-stream]\n",
            "Saving to: ‘train_qa.txt’\n",
            "\n",
            "\rtrain_qa.txt          0%[                    ]       0  --.-KB/s               \rtrain_qa.txt        100%[===================>]   3.63M  --.-KB/s    in 0.07s   \n",
            "\n",
            "2022-05-02 06:13:26 (51.9 MB/s) - ‘train_qa.txt’ saved [3804342/3804342]\n",
            "\n"
          ]
        }
      ]
    },
    {
      "cell_type": "code",
      "source": [
        "!wget https://raw.githubusercontent.com/mr-alamdari/NLP-ChatBots/main/test_qa.txt"
      ],
      "metadata": {
        "colab": {
          "base_uri": "https://localhost:8080/"
        },
        "id": "rpMOvTozZRcr",
        "outputId": "e83a92d5-6901-4cd3-80fa-712ef53e3463"
      },
      "execution_count": 5,
      "outputs": [
        {
          "output_type": "stream",
          "name": "stdout",
          "text": [
            "--2022-05-02 06:12:59--  https://raw.githubusercontent.com/mr-alamdari/NLP-ChatBots/main/test_qa.txt\n",
            "Resolving raw.githubusercontent.com (raw.githubusercontent.com)... 185.199.108.133, 185.199.109.133, 185.199.110.133, ...\n",
            "Connecting to raw.githubusercontent.com (raw.githubusercontent.com)|185.199.108.133|:443... connected.\n",
            "HTTP request sent, awaiting response... 200 OK\n",
            "Length: 377233 (368K) [application/octet-stream]\n",
            "Saving to: ‘test_qa.txt’\n",
            "\n",
            "\rtest_qa.txt           0%[                    ]       0  --.-KB/s               \rtest_qa.txt         100%[===================>] 368.39K  --.-KB/s    in 0.03s   \n",
            "\n",
            "2022-05-02 06:12:59 (10.7 MB/s) - ‘test_qa.txt’ saved [377233/377233]\n",
            "\n"
          ]
        }
      ]
    },
    {
      "cell_type": "code",
      "source": [
        "with open('train_qa.txt', 'rb') as f:\n",
        "  train_data = pickle.load(f)"
      ],
      "metadata": {
        "id": "7__to0bEORfc"
      },
      "execution_count": 7,
      "outputs": []
    },
    {
      "cell_type": "code",
      "source": [
        "with open('test_qa.txt', 'rb') as f:\n",
        "  test_data = pickle.load(f)"
      ],
      "metadata": {
        "id": "DeQyxzv_ZfKR"
      },
      "execution_count": 8,
      "outputs": []
    },
    {
      "cell_type": "code",
      "source": [
        "len(train_data)"
      ],
      "metadata": {
        "colab": {
          "base_uri": "https://localhost:8080/"
        },
        "id": "k1qEANT5Zyse",
        "outputId": "f24b3b82-0278-4992-d80f-9c26f855544d"
      },
      "execution_count": 10,
      "outputs": [
        {
          "output_type": "execute_result",
          "data": {
            "text/plain": [
              "10000"
            ]
          },
          "metadata": {},
          "execution_count": 10
        }
      ]
    },
    {
      "cell_type": "code",
      "source": [
        "len(test_data)"
      ],
      "metadata": {
        "colab": {
          "base_uri": "https://localhost:8080/"
        },
        "id": "zJtfxfBoZ3oJ",
        "outputId": "664b8381-168e-450b-be8c-aaa89c787fdb"
      },
      "execution_count": 11,
      "outputs": [
        {
          "output_type": "execute_result",
          "data": {
            "text/plain": [
              "1000"
            ]
          },
          "metadata": {},
          "execution_count": 11
        }
      ]
    },
    {
      "cell_type": "code",
      "source": [
        "' '.join(train_data[10][0])"
      ],
      "metadata": {
        "colab": {
          "base_uri": "https://localhost:8080/",
          "height": 35
        },
        "id": "Fk_d-wwwZ7_s",
        "outputId": "2a947569-105d-4200-9d5e-209a6432fad0"
      },
      "execution_count": 19,
      "outputs": [
        {
          "output_type": "execute_result",
          "data": {
            "text/plain": [
              "'Sandra went back to the hallway . Sandra moved to the office .'"
            ],
            "application/vnd.google.colaboratory.intrinsic+json": {
              "type": "string"
            }
          },
          "metadata": {},
          "execution_count": 19
        }
      ]
    },
    {
      "cell_type": "code",
      "source": [
        "' '.join(train_data[10][1])"
      ],
      "metadata": {
        "colab": {
          "base_uri": "https://localhost:8080/",
          "height": 35
        },
        "id": "ronSXKZUZ_UY",
        "outputId": "e28c303a-610a-4994-9116-ab066f13a930"
      },
      "execution_count": 20,
      "outputs": [
        {
          "output_type": "execute_result",
          "data": {
            "text/plain": [
              "'Is Sandra in the office ?'"
            ],
            "application/vnd.google.colaboratory.intrinsic+json": {
              "type": "string"
            }
          },
          "metadata": {},
          "execution_count": 20
        }
      ]
    },
    {
      "cell_type": "code",
      "source": [
        "train_data[10][2]"
      ],
      "metadata": {
        "colab": {
          "base_uri": "https://localhost:8080/",
          "height": 35
        },
        "id": "Vmu94R0QaNvp",
        "outputId": "3dd75aa1-294c-490a-80e5-3dd12498e431"
      },
      "execution_count": 22,
      "outputs": [
        {
          "output_type": "execute_result",
          "data": {
            "text/plain": [
              "'yes'"
            ],
            "application/vnd.google.colaboratory.intrinsic+json": {
              "type": "string"
            }
          },
          "metadata": {},
          "execution_count": 22
        }
      ]
    },
    {
      "cell_type": "code",
      "source": [
        "all_data = train_data + train_data"
      ],
      "metadata": {
        "id": "Xf2CGwh7aV_i"
      },
      "execution_count": 24,
      "outputs": []
    },
    {
      "cell_type": "code",
      "source": [
        "vocab = set(['yes', 'no'])\n",
        "for story, question, answer in all_data:\n",
        "  vocab = vocab.union(set(story))\n",
        "  vocab = vocab.union(set(question))"
      ],
      "metadata": {
        "id": "DDwNuBX-awuA"
      },
      "execution_count": 29,
      "outputs": []
    },
    {
      "cell_type": "code",
      "source": [
        "vocab_len = len(vocab) + 1"
      ],
      "metadata": {
        "id": "kqCJ2n_PbMYx"
      },
      "execution_count": 33,
      "outputs": []
    },
    {
      "cell_type": "code",
      "source": [
        "vocab_len"
      ],
      "metadata": {
        "colab": {
          "base_uri": "https://localhost:8080/"
        },
        "id": "fxZnJ4EubRQB",
        "outputId": "ceeee38d-7ea0-4bbb-ca58-2dcc98b55e6e"
      },
      "execution_count": 34,
      "outputs": [
        {
          "output_type": "execute_result",
          "data": {
            "text/plain": [
              "38"
            ]
          },
          "metadata": {},
          "execution_count": 34
        }
      ]
    },
    {
      "cell_type": "code",
      "source": [
        "all_story_length = [len(data[0]) for data in all_data]"
      ],
      "metadata": {
        "id": "V0hTo7L-bWel"
      },
      "execution_count": 36,
      "outputs": []
    },
    {
      "cell_type": "code",
      "source": [
        "max_story_len = max(all_story_length)"
      ],
      "metadata": {
        "id": "VuWc__nabizA"
      },
      "execution_count": 37,
      "outputs": []
    },
    {
      "cell_type": "code",
      "source": [
        "max_story_len"
      ],
      "metadata": {
        "colab": {
          "base_uri": "https://localhost:8080/"
        },
        "id": "SnbtbhxKbmu0",
        "outputId": "3814ee0a-3111-4163-c374-2d6ab57a695c"
      },
      "execution_count": 38,
      "outputs": [
        {
          "output_type": "execute_result",
          "data": {
            "text/plain": [
              "156"
            ]
          },
          "metadata": {},
          "execution_count": 38
        }
      ]
    },
    {
      "cell_type": "code",
      "source": [
        "all_question_length = [len(data[1]) for data in all_data]"
      ],
      "metadata": {
        "id": "NZIdJhm0bnjs"
      },
      "execution_count": 39,
      "outputs": []
    },
    {
      "cell_type": "code",
      "source": [
        "max_question_length = max(all_question_length)"
      ],
      "metadata": {
        "id": "vYx2pumlbuA-"
      },
      "execution_count": 40,
      "outputs": []
    },
    {
      "cell_type": "code",
      "source": [
        "max_question_length"
      ],
      "metadata": {
        "colab": {
          "base_uri": "https://localhost:8080/"
        },
        "id": "pXHihqptbyfr",
        "outputId": "8cfbc834-8d2f-4030-f291-d33cf6d3b1aa"
      },
      "execution_count": 41,
      "outputs": [
        {
          "output_type": "execute_result",
          "data": {
            "text/plain": [
              "6"
            ]
          },
          "metadata": {},
          "execution_count": 41
        }
      ]
    },
    {
      "cell_type": "code",
      "source": [
        "tokenizer = tf.keras.preprocessing.text.Tokenizer()\n",
        "tokenizer.fit_on_texts(vocab)"
      ],
      "metadata": {
        "id": "FOA3VXAPbyqu"
      },
      "execution_count": 44,
      "outputs": []
    },
    {
      "cell_type": "code",
      "source": [
        "tokenizer.word_index"
      ],
      "metadata": {
        "colab": {
          "base_uri": "https://localhost:8080/"
        },
        "id": "jsIlKYgucIUA",
        "outputId": "8305949b-38fc-4f79-92f6-aff479a3e72d"
      },
      "execution_count": 45,
      "outputs": [
        {
          "output_type": "execute_result",
          "data": {
            "text/plain": [
              "{'apple': 1,\n",
              " 'back': 22,\n",
              " 'bathroom': 35,\n",
              " 'bedroom': 14,\n",
              " 'daniel': 24,\n",
              " 'discarded': 28,\n",
              " 'down': 9,\n",
              " 'dropped': 11,\n",
              " 'football': 16,\n",
              " 'garden': 19,\n",
              " 'got': 2,\n",
              " 'grabbed': 4,\n",
              " 'hallway': 6,\n",
              " 'in': 26,\n",
              " 'is': 30,\n",
              " 'john': 33,\n",
              " 'journeyed': 10,\n",
              " 'kitchen': 31,\n",
              " 'left': 27,\n",
              " 'mary': 18,\n",
              " 'milk': 8,\n",
              " 'moved': 29,\n",
              " 'no': 7,\n",
              " 'office': 32,\n",
              " 'picked': 34,\n",
              " 'put': 3,\n",
              " 'sandra': 5,\n",
              " 'the': 12,\n",
              " 'there': 15,\n",
              " 'to': 20,\n",
              " 'took': 13,\n",
              " 'travelled': 25,\n",
              " 'up': 17,\n",
              " 'went': 23,\n",
              " 'yes': 21}"
            ]
          },
          "metadata": {},
          "execution_count": 45
        }
      ]
    },
    {
      "cell_type": "code",
      "source": [
        "train_story_text = []\n",
        "train_question_text = []\n",
        "train_answers = []"
      ],
      "metadata": {
        "id": "kJFUMnDacN3Y"
      },
      "execution_count": 46,
      "outputs": []
    },
    {
      "cell_type": "code",
      "source": [
        "for story, question, answer in train_data:\n",
        "  train_story_text.append(story)\n",
        "  train_question_text.append(question)\n",
        "  train_answers.append(answer)"
      ],
      "metadata": {
        "id": "28ttoOmYcZ4n"
      },
      "execution_count": 47,
      "outputs": []
    },
    {
      "cell_type": "code",
      "source": [
        "train_story_text[20]"
      ],
      "metadata": {
        "colab": {
          "base_uri": "https://localhost:8080/"
        },
        "id": "iq1Nm5eccnBH",
        "outputId": "92cb2ea8-fdd8-4719-e87d-d5a21cb4718c"
      },
      "execution_count": 49,
      "outputs": [
        {
          "output_type": "execute_result",
          "data": {
            "text/plain": [
              "['Daniel',\n",
              " 'got',\n",
              " 'the',\n",
              " 'apple',\n",
              " 'there',\n",
              " '.',\n",
              " 'John',\n",
              " 'picked',\n",
              " 'up',\n",
              " 'the',\n",
              " 'football',\n",
              " 'there',\n",
              " '.',\n",
              " 'Daniel',\n",
              " 'left',\n",
              " 'the',\n",
              " 'apple',\n",
              " '.',\n",
              " 'Daniel',\n",
              " 'moved',\n",
              " 'to',\n",
              " 'the',\n",
              " 'kitchen',\n",
              " '.']"
            ]
          },
          "metadata": {},
          "execution_count": 49
        }
      ]
    },
    {
      "cell_type": "code",
      "source": [
        "train_story_seq = tokenizer.texts_to_sequences(train_story_text)"
      ],
      "metadata": {
        "id": "5yv4La59coqH"
      },
      "execution_count": 50,
      "outputs": []
    },
    {
      "cell_type": "code",
      "source": [
        "train_story_seq[20]"
      ],
      "metadata": {
        "colab": {
          "base_uri": "https://localhost:8080/"
        },
        "id": "nNp2daFcc1tH",
        "outputId": "ea7a53c0-8288-4642-e198-b51a1b5b0456"
      },
      "execution_count": 51,
      "outputs": [
        {
          "output_type": "execute_result",
          "data": {
            "text/plain": [
              "[24, 2, 12, 1, 15, 33, 34, 17, 12, 16, 15, 24, 27, 12, 1, 24, 29, 20, 12, 31]"
            ]
          },
          "metadata": {},
          "execution_count": 51
        }
      ]
    },
    {
      "cell_type": "code",
      "source": [
        "len(train_story_seq), len(train_story_text)"
      ],
      "metadata": {
        "colab": {
          "base_uri": "https://localhost:8080/"
        },
        "id": "jgoNhoHOc3qz",
        "outputId": "214398e9-8d37-4036-8f7b-96703d268e19"
      },
      "execution_count": 52,
      "outputs": [
        {
          "output_type": "execute_result",
          "data": {
            "text/plain": [
              "(10000, 10000)"
            ]
          },
          "metadata": {},
          "execution_count": 52
        }
      ]
    },
    {
      "cell_type": "code",
      "source": [
        "def vectorize_texts(data, max_story_len=max_story_len, max_question_len=max_question_length, word_index=tokenizer.word_index, vocab_len=vocab_len):\n",
        "  stories = []\n",
        "  questions = []\n",
        "  answers = []\n",
        "\n",
        "  for story, question, answer in data:\n",
        "    s = [word_index[word.lower()] for word in story if word.isalpha()]\n",
        "    q = [word_index[word.lower()] for word in question if word.isalpha()]\n",
        "    y = np.zeros(vocab_len)\n",
        "    y[word_index[answer]] = 1\n",
        "\n",
        "    stories.append(s)\n",
        "    questions.append(q)\n",
        "    answers.append(y)\n",
        "  \n",
        "  return (tf.keras.preprocessing.sequence.pad_sequences(stories, maxlen=max_story_len),\n",
        "          tf.keras.preprocessing.sequence.pad_sequences(questions, maxlen=max_question_length),\n",
        "          np.array(answers))"
      ],
      "metadata": {
        "id": "0IlYZQrIc56g"
      },
      "execution_count": 68,
      "outputs": []
    },
    {
      "cell_type": "code",
      "source": [
        "data = train_data\n",
        "inputs_train, questions_train, answers_train = vectorize_texts(data)"
      ],
      "metadata": {
        "id": "-6Z5b-PHfBwO"
      },
      "execution_count": 69,
      "outputs": []
    },
    {
      "cell_type": "code",
      "source": [
        "data = test_data\n",
        "inputs_test, questions_test, answers_test = vectorize_texts(data)"
      ],
      "metadata": {
        "id": "bjNUYKQif1Kq"
      },
      "execution_count": 70,
      "outputs": []
    },
    {
      "cell_type": "code",
      "source": [
        "inputs_train"
      ],
      "metadata": {
        "colab": {
          "base_uri": "https://localhost:8080/"
        },
        "id": "4nRydDlyg2Nt",
        "outputId": "1751bce4-aec3-4135-fe7c-e4d7c2b97449"
      },
      "execution_count": 71,
      "outputs": [
        {
          "output_type": "execute_result",
          "data": {
            "text/plain": [
              "array([[ 0,  0,  0, ..., 20, 12, 14],\n",
              "       [ 0,  0,  0, ..., 20, 12,  6],\n",
              "       [ 0,  0,  0, ..., 20, 12, 35],\n",
              "       ...,\n",
              "       [ 0,  0,  0, ..., 20, 12, 14],\n",
              "       [ 0,  0,  0, ..., 12,  8, 15],\n",
              "       [ 0,  0,  0, ..., 12,  1, 15]], dtype=int32)"
            ]
          },
          "metadata": {},
          "execution_count": 71
        }
      ]
    },
    {
      "cell_type": "code",
      "source": [
        "questions_train"
      ],
      "metadata": {
        "colab": {
          "base_uri": "https://localhost:8080/"
        },
        "id": "10lS9PUihLjm",
        "outputId": "3afb91d2-135c-4b92-83f5-97f9a034dcfa"
      },
      "execution_count": 72,
      "outputs": [
        {
          "output_type": "execute_result",
          "data": {
            "text/plain": [
              "array([[ 0, 30,  5, 26, 12,  6],\n",
              "       [ 0, 30, 24, 26, 12, 35],\n",
              "       [ 0, 30, 24, 26, 12, 32],\n",
              "       ...,\n",
              "       [ 0, 30,  5, 26, 12,  6],\n",
              "       [ 0, 30, 18, 26, 12, 31],\n",
              "       [ 0, 30, 18, 26, 12, 14]], dtype=int32)"
            ]
          },
          "metadata": {},
          "execution_count": 72
        }
      ]
    },
    {
      "cell_type": "code",
      "source": [
        "answers_train"
      ],
      "metadata": {
        "colab": {
          "base_uri": "https://localhost:8080/"
        },
        "id": "kFpXbaoNhx9U",
        "outputId": "9dc6e297-847e-4285-ae69-c04096c342c9"
      },
      "execution_count": 73,
      "outputs": [
        {
          "output_type": "execute_result",
          "data": {
            "text/plain": [
              "array([[0., 0., 0., ..., 0., 0., 0.],\n",
              "       [0., 0., 0., ..., 0., 0., 0.],\n",
              "       [0., 0., 0., ..., 0., 0., 0.],\n",
              "       ...,\n",
              "       [0., 0., 0., ..., 0., 0., 0.],\n",
              "       [0., 0., 0., ..., 0., 0., 0.],\n",
              "       [0., 0., 0., ..., 0., 0., 0.]])"
            ]
          },
          "metadata": {},
          "execution_count": 73
        }
      ]
    },
    {
      "cell_type": "code",
      "source": [
        "len(answers_test)"
      ],
      "metadata": {
        "colab": {
          "base_uri": "https://localhost:8080/"
        },
        "id": "YnIx8P8Ehzlg",
        "outputId": "9a9c3a8f-b877-4ae0-9749-c5049783c3b6"
      },
      "execution_count": 75,
      "outputs": [
        {
          "output_type": "execute_result",
          "data": {
            "text/plain": [
              "1000"
            ]
          },
          "metadata": {},
          "execution_count": 75
        }
      ]
    },
    {
      "cell_type": "code",
      "source": [
        "sum(answers_test)"
      ],
      "metadata": {
        "colab": {
          "base_uri": "https://localhost:8080/"
        },
        "id": "kVxLSZeth8uX",
        "outputId": "f25b996d-cba7-4663-f653-9cfc15be0b44"
      },
      "execution_count": 76,
      "outputs": [
        {
          "output_type": "execute_result",
          "data": {
            "text/plain": [
              "array([  0.,   0.,   0.,   0.,   0.,   0.,   0., 503.,   0.,   0.,   0.,\n",
              "         0.,   0.,   0.,   0.,   0.,   0.,   0.,   0.,   0.,   0., 497.,\n",
              "         0.,   0.,   0.,   0.,   0.,   0.,   0.,   0.,   0.,   0.,   0.,\n",
              "         0.,   0.,   0.,   0.,   0.])"
            ]
          },
          "metadata": {},
          "execution_count": 76
        }
      ]
    },
    {
      "cell_type": "code",
      "source": [
        ""
      ],
      "metadata": {
        "id": "VLLk6CcniPJ3"
      },
      "execution_count": null,
      "outputs": []
    }
  ]
}