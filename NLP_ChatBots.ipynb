{
  "nbformat": 4,
  "nbformat_minor": 0,
  "metadata": {
    "colab": {
      "name": "NLP-ChatBots.ipynb",
      "provenance": [],
      "collapsed_sections": [],
      "authorship_tag": "ABX9TyP+GA9sTWQEFB3HgksrJgXj",
      "include_colab_link": true
    },
    "kernelspec": {
      "name": "python3",
      "display_name": "Python 3"
    },
    "language_info": {
      "name": "python"
    }
  },
  "cells": [
    {
      "cell_type": "markdown",
      "metadata": {
        "id": "view-in-github",
        "colab_type": "text"
      },
      "source": [
        "<a href=\"https://colab.research.google.com/github/mr-alamdari/NLP-ChatBots/blob/main/NLP_ChatBots.ipynb\" target=\"_parent\"><img src=\"https://colab.research.google.com/assets/colab-badge.svg\" alt=\"Open In Colab\"/></a>"
      ]
    },
    {
      "cell_type": "code",
      "execution_count": 3,
      "metadata": {
        "id": "-NSl76IaDGSP"
      },
      "outputs": [],
      "source": [
        "import pickle\n",
        "import numpy as np\n",
        "import pandas as pd\n",
        "import tensorflow as tf\n",
        "import matplotlib.pyplot as plt"
      ]
    },
    {
      "cell_type": "code",
      "source": [
        "!wget https://raw.githubusercontent.com/mr-alamdari/NLP-ChatBots/main/train_qa.txt"
      ],
      "metadata": {
        "colab": {
          "base_uri": "https://localhost:8080/"
        },
        "id": "bU4zEBfkZRhM",
        "outputId": "a51748e0-0fb7-4857-c260-377e3d586864"
      },
      "execution_count": 4,
      "outputs": [
        {
          "output_type": "stream",
          "name": "stdout",
          "text": [
            "--2022-05-02 08:52:36--  https://raw.githubusercontent.com/mr-alamdari/NLP-ChatBots/main/train_qa.txt\n",
            "Resolving raw.githubusercontent.com (raw.githubusercontent.com)... 185.199.110.133, 185.199.109.133, 185.199.111.133, ...\n",
            "Connecting to raw.githubusercontent.com (raw.githubusercontent.com)|185.199.110.133|:443... connected.\n",
            "HTTP request sent, awaiting response... 200 OK\n",
            "Length: 3804342 (3.6M) [application/octet-stream]\n",
            "Saving to: ‘train_qa.txt.1’\n",
            "\n",
            "train_qa.txt.1      100%[===================>]   3.63M  --.-KB/s    in 0.07s   \n",
            "\n",
            "2022-05-02 08:52:36 (48.8 MB/s) - ‘train_qa.txt.1’ saved [3804342/3804342]\n",
            "\n"
          ]
        }
      ]
    },
    {
      "cell_type": "code",
      "source": [
        "!wget https://raw.githubusercontent.com/mr-alamdari/NLP-ChatBots/main/test_qa.txt"
      ],
      "metadata": {
        "colab": {
          "base_uri": "https://localhost:8080/"
        },
        "id": "rpMOvTozZRcr",
        "outputId": "5aebb855-0244-4e1d-85a1-b8b7c255d82e"
      },
      "execution_count": 5,
      "outputs": [
        {
          "output_type": "stream",
          "name": "stdout",
          "text": [
            "--2022-05-02 08:52:36--  https://raw.githubusercontent.com/mr-alamdari/NLP-ChatBots/main/test_qa.txt\n",
            "Resolving raw.githubusercontent.com (raw.githubusercontent.com)... 185.199.111.133, 185.199.108.133, 185.199.109.133, ...\n",
            "Connecting to raw.githubusercontent.com (raw.githubusercontent.com)|185.199.111.133|:443... connected.\n",
            "HTTP request sent, awaiting response... 200 OK\n",
            "Length: 377233 (368K) [application/octet-stream]\n",
            "Saving to: ‘test_qa.txt.1’\n",
            "\n",
            "test_qa.txt.1       100%[===================>] 368.39K  --.-KB/s    in 0.03s   \n",
            "\n",
            "2022-05-02 08:52:36 (10.4 MB/s) - ‘test_qa.txt.1’ saved [377233/377233]\n",
            "\n"
          ]
        }
      ]
    },
    {
      "cell_type": "code",
      "source": [
        "with open('train_qa.txt', 'rb') as f:\n",
        "  train_data = pickle.load(f)"
      ],
      "metadata": {
        "id": "7__to0bEORfc"
      },
      "execution_count": 6,
      "outputs": []
    },
    {
      "cell_type": "code",
      "source": [
        "with open('test_qa.txt', 'rb') as f:\n",
        "  test_data = pickle.load(f)"
      ],
      "metadata": {
        "id": "DeQyxzv_ZfKR"
      },
      "execution_count": 7,
      "outputs": []
    },
    {
      "cell_type": "code",
      "source": [
        "len(train_data)"
      ],
      "metadata": {
        "colab": {
          "base_uri": "https://localhost:8080/"
        },
        "id": "k1qEANT5Zyse",
        "outputId": "153523a6-8110-4567-973f-4417e9e35587"
      },
      "execution_count": 8,
      "outputs": [
        {
          "output_type": "execute_result",
          "data": {
            "text/plain": [
              "10000"
            ]
          },
          "metadata": {},
          "execution_count": 8
        }
      ]
    },
    {
      "cell_type": "code",
      "source": [
        "len(test_data)"
      ],
      "metadata": {
        "colab": {
          "base_uri": "https://localhost:8080/"
        },
        "id": "zJtfxfBoZ3oJ",
        "outputId": "d1e4db42-08ae-4d5f-924c-f192767dfdbd"
      },
      "execution_count": 9,
      "outputs": [
        {
          "output_type": "execute_result",
          "data": {
            "text/plain": [
              "1000"
            ]
          },
          "metadata": {},
          "execution_count": 9
        }
      ]
    },
    {
      "cell_type": "code",
      "source": [
        "' '.join(train_data[10][0])"
      ],
      "metadata": {
        "colab": {
          "base_uri": "https://localhost:8080/",
          "height": 35
        },
        "id": "Fk_d-wwwZ7_s",
        "outputId": "bdd9dd69-d463-4ae6-ffd3-7b1e65655811"
      },
      "execution_count": 10,
      "outputs": [
        {
          "output_type": "execute_result",
          "data": {
            "text/plain": [
              "'Sandra went back to the hallway . Sandra moved to the office .'"
            ],
            "application/vnd.google.colaboratory.intrinsic+json": {
              "type": "string"
            }
          },
          "metadata": {},
          "execution_count": 10
        }
      ]
    },
    {
      "cell_type": "code",
      "source": [
        "' '.join(train_data[10][1])"
      ],
      "metadata": {
        "colab": {
          "base_uri": "https://localhost:8080/",
          "height": 35
        },
        "id": "ronSXKZUZ_UY",
        "outputId": "be9faf43-5450-4016-e2f2-c6ae34c1f6e4"
      },
      "execution_count": 11,
      "outputs": [
        {
          "output_type": "execute_result",
          "data": {
            "text/plain": [
              "'Is Sandra in the office ?'"
            ],
            "application/vnd.google.colaboratory.intrinsic+json": {
              "type": "string"
            }
          },
          "metadata": {},
          "execution_count": 11
        }
      ]
    },
    {
      "cell_type": "code",
      "source": [
        "train_data[10][2]"
      ],
      "metadata": {
        "colab": {
          "base_uri": "https://localhost:8080/",
          "height": 35
        },
        "id": "Vmu94R0QaNvp",
        "outputId": "e5a891a7-ea2a-4a64-9906-792518492810"
      },
      "execution_count": 12,
      "outputs": [
        {
          "output_type": "execute_result",
          "data": {
            "text/plain": [
              "'yes'"
            ],
            "application/vnd.google.colaboratory.intrinsic+json": {
              "type": "string"
            }
          },
          "metadata": {},
          "execution_count": 12
        }
      ]
    },
    {
      "cell_type": "code",
      "source": [
        "all_data = train_data + train_data"
      ],
      "metadata": {
        "id": "Xf2CGwh7aV_i"
      },
      "execution_count": 13,
      "outputs": []
    },
    {
      "cell_type": "code",
      "source": [
        "vocab = set(['yes', 'no'])\n",
        "for story, question, answer in all_data:\n",
        "  vocab = vocab.union(set(story))\n",
        "  vocab = vocab.union(set(question))"
      ],
      "metadata": {
        "id": "DDwNuBX-awuA"
      },
      "execution_count": 14,
      "outputs": []
    },
    {
      "cell_type": "code",
      "source": [
        "vocab_len = len(vocab) + 1"
      ],
      "metadata": {
        "id": "kqCJ2n_PbMYx"
      },
      "execution_count": 15,
      "outputs": []
    },
    {
      "cell_type": "code",
      "source": [
        "vocab_len"
      ],
      "metadata": {
        "colab": {
          "base_uri": "https://localhost:8080/"
        },
        "id": "fxZnJ4EubRQB",
        "outputId": "d54ec1d4-d85e-47a7-bc68-07ca5aa6eade"
      },
      "execution_count": 16,
      "outputs": [
        {
          "output_type": "execute_result",
          "data": {
            "text/plain": [
              "38"
            ]
          },
          "metadata": {},
          "execution_count": 16
        }
      ]
    },
    {
      "cell_type": "code",
      "source": [
        "all_story_length = [len(data[0]) for data in all_data]"
      ],
      "metadata": {
        "id": "V0hTo7L-bWel"
      },
      "execution_count": 17,
      "outputs": []
    },
    {
      "cell_type": "code",
      "source": [
        "max_story_len = max(all_story_length)"
      ],
      "metadata": {
        "id": "VuWc__nabizA"
      },
      "execution_count": 18,
      "outputs": []
    },
    {
      "cell_type": "code",
      "source": [
        "max_story_len"
      ],
      "metadata": {
        "colab": {
          "base_uri": "https://localhost:8080/"
        },
        "id": "SnbtbhxKbmu0",
        "outputId": "db7c2d0a-7c86-4e7f-ab9c-2b696dc02b1a"
      },
      "execution_count": 19,
      "outputs": [
        {
          "output_type": "execute_result",
          "data": {
            "text/plain": [
              "156"
            ]
          },
          "metadata": {},
          "execution_count": 19
        }
      ]
    },
    {
      "cell_type": "code",
      "source": [
        "all_question_length = [len(data[1]) for data in all_data]"
      ],
      "metadata": {
        "id": "NZIdJhm0bnjs"
      },
      "execution_count": 20,
      "outputs": []
    },
    {
      "cell_type": "code",
      "source": [
        "max_question_length = max(all_question_length)"
      ],
      "metadata": {
        "id": "vYx2pumlbuA-"
      },
      "execution_count": 21,
      "outputs": []
    },
    {
      "cell_type": "code",
      "source": [
        "max_question_length"
      ],
      "metadata": {
        "colab": {
          "base_uri": "https://localhost:8080/"
        },
        "id": "pXHihqptbyfr",
        "outputId": "7b4ad0ba-b627-4568-fa76-3b17abf48f8f"
      },
      "execution_count": 22,
      "outputs": [
        {
          "output_type": "execute_result",
          "data": {
            "text/plain": [
              "6"
            ]
          },
          "metadata": {},
          "execution_count": 22
        }
      ]
    },
    {
      "cell_type": "code",
      "source": [
        "tokenizer = tf.keras.preprocessing.text.Tokenizer()\n",
        "tokenizer.fit_on_texts(vocab)"
      ],
      "metadata": {
        "id": "FOA3VXAPbyqu"
      },
      "execution_count": 23,
      "outputs": []
    },
    {
      "cell_type": "code",
      "source": [
        "tokenizer.word_index"
      ],
      "metadata": {
        "colab": {
          "base_uri": "https://localhost:8080/"
        },
        "id": "jsIlKYgucIUA",
        "outputId": "24d48649-6031-42f5-cbec-d6dec902cb25"
      },
      "execution_count": 24,
      "outputs": [
        {
          "output_type": "execute_result",
          "data": {
            "text/plain": [
              "{'apple': 17,\n",
              " 'back': 7,\n",
              " 'bathroom': 31,\n",
              " 'bedroom': 27,\n",
              " 'daniel': 11,\n",
              " 'discarded': 9,\n",
              " 'down': 5,\n",
              " 'dropped': 4,\n",
              " 'football': 28,\n",
              " 'garden': 15,\n",
              " 'got': 12,\n",
              " 'grabbed': 14,\n",
              " 'hallway': 18,\n",
              " 'in': 23,\n",
              " 'is': 30,\n",
              " 'john': 8,\n",
              " 'journeyed': 26,\n",
              " 'kitchen': 16,\n",
              " 'left': 19,\n",
              " 'mary': 33,\n",
              " 'milk': 20,\n",
              " 'moved': 29,\n",
              " 'no': 2,\n",
              " 'office': 35,\n",
              " 'picked': 10,\n",
              " 'put': 1,\n",
              " 'sandra': 34,\n",
              " 'the': 32,\n",
              " 'there': 3,\n",
              " 'to': 25,\n",
              " 'took': 13,\n",
              " 'travelled': 24,\n",
              " 'up': 6,\n",
              " 'went': 22,\n",
              " 'yes': 21}"
            ]
          },
          "metadata": {},
          "execution_count": 24
        }
      ]
    },
    {
      "cell_type": "code",
      "source": [
        "train_story_text = []\n",
        "train_question_text = []\n",
        "train_answers = []"
      ],
      "metadata": {
        "id": "kJFUMnDacN3Y"
      },
      "execution_count": 25,
      "outputs": []
    },
    {
      "cell_type": "code",
      "source": [
        "for story, question, answer in train_data:\n",
        "  train_story_text.append(story)\n",
        "  train_question_text.append(question)\n",
        "  train_answers.append(answer)"
      ],
      "metadata": {
        "id": "28ttoOmYcZ4n"
      },
      "execution_count": 26,
      "outputs": []
    },
    {
      "cell_type": "code",
      "source": [
        "train_story_text[20]"
      ],
      "metadata": {
        "colab": {
          "base_uri": "https://localhost:8080/"
        },
        "id": "iq1Nm5eccnBH",
        "outputId": "5d75312f-9b2c-49b4-aa65-c055417f7358"
      },
      "execution_count": 27,
      "outputs": [
        {
          "output_type": "execute_result",
          "data": {
            "text/plain": [
              "['Daniel',\n",
              " 'got',\n",
              " 'the',\n",
              " 'apple',\n",
              " 'there',\n",
              " '.',\n",
              " 'John',\n",
              " 'picked',\n",
              " 'up',\n",
              " 'the',\n",
              " 'football',\n",
              " 'there',\n",
              " '.',\n",
              " 'Daniel',\n",
              " 'left',\n",
              " 'the',\n",
              " 'apple',\n",
              " '.',\n",
              " 'Daniel',\n",
              " 'moved',\n",
              " 'to',\n",
              " 'the',\n",
              " 'kitchen',\n",
              " '.']"
            ]
          },
          "metadata": {},
          "execution_count": 27
        }
      ]
    },
    {
      "cell_type": "code",
      "source": [
        "train_story_seq = tokenizer.texts_to_sequences(train_story_text)"
      ],
      "metadata": {
        "id": "5yv4La59coqH"
      },
      "execution_count": 28,
      "outputs": []
    },
    {
      "cell_type": "code",
      "source": [
        "train_story_seq[20]"
      ],
      "metadata": {
        "colab": {
          "base_uri": "https://localhost:8080/"
        },
        "id": "nNp2daFcc1tH",
        "outputId": "84bf3f51-f5b6-482c-c83d-78d7917edc6c"
      },
      "execution_count": 29,
      "outputs": [
        {
          "output_type": "execute_result",
          "data": {
            "text/plain": [
              "[11, 12, 32, 17, 3, 8, 10, 6, 32, 28, 3, 11, 19, 32, 17, 11, 29, 25, 32, 16]"
            ]
          },
          "metadata": {},
          "execution_count": 29
        }
      ]
    },
    {
      "cell_type": "code",
      "source": [
        "len(train_story_seq), len(train_story_text)"
      ],
      "metadata": {
        "colab": {
          "base_uri": "https://localhost:8080/"
        },
        "id": "jgoNhoHOc3qz",
        "outputId": "62074904-47b4-4e76-feeb-d4a94396f9ff"
      },
      "execution_count": 30,
      "outputs": [
        {
          "output_type": "execute_result",
          "data": {
            "text/plain": [
              "(10000, 10000)"
            ]
          },
          "metadata": {},
          "execution_count": 30
        }
      ]
    },
    {
      "cell_type": "code",
      "source": [
        "def vectorize_texts(data, max_story_len=max_story_len, max_question_len=max_question_length, word_index=tokenizer.word_index, vocab_len=vocab_len):\n",
        "  stories = []\n",
        "  questions = []\n",
        "  answers = []\n",
        "\n",
        "  for story, question, answer in data:\n",
        "    s = [word_index[word.lower()] for word in story if word.isalpha()]\n",
        "    q = [word_index[word.lower()] for word in question if word.isalpha()]\n",
        "    y = np.zeros(vocab_len)\n",
        "    y[word_index[answer]] = 1\n",
        "\n",
        "    stories.append(s)\n",
        "    questions.append(q)\n",
        "    answers.append(y)\n",
        "  \n",
        "  return (tf.keras.preprocessing.sequence.pad_sequences(stories, maxlen=max_story_len),\n",
        "          tf.keras.preprocessing.sequence.pad_sequences(questions, maxlen=max_question_length),\n",
        "          np.array(answers))"
      ],
      "metadata": {
        "id": "0IlYZQrIc56g"
      },
      "execution_count": 31,
      "outputs": []
    },
    {
      "cell_type": "code",
      "source": [
        "data = train_data\n",
        "inputs_train, questions_train, answers_train = vectorize_texts(data)"
      ],
      "metadata": {
        "id": "-6Z5b-PHfBwO"
      },
      "execution_count": 32,
      "outputs": []
    },
    {
      "cell_type": "code",
      "source": [
        "data = test_data\n",
        "inputs_test, questions_test, answers_test = vectorize_texts(data)"
      ],
      "metadata": {
        "id": "bjNUYKQif1Kq"
      },
      "execution_count": 33,
      "outputs": []
    },
    {
      "cell_type": "code",
      "source": [
        "inputs_train"
      ],
      "metadata": {
        "colab": {
          "base_uri": "https://localhost:8080/"
        },
        "id": "4nRydDlyg2Nt",
        "outputId": "488a4c32-7876-4468-c004-6bf7d369b5f1"
      },
      "execution_count": 34,
      "outputs": [
        {
          "output_type": "execute_result",
          "data": {
            "text/plain": [
              "array([[ 0,  0,  0, ..., 25, 32, 27],\n",
              "       [ 0,  0,  0, ..., 25, 32, 18],\n",
              "       [ 0,  0,  0, ..., 25, 32, 31],\n",
              "       ...,\n",
              "       [ 0,  0,  0, ..., 25, 32, 27],\n",
              "       [ 0,  0,  0, ..., 32, 20,  3],\n",
              "       [ 0,  0,  0, ..., 32, 17,  3]], dtype=int32)"
            ]
          },
          "metadata": {},
          "execution_count": 34
        }
      ]
    },
    {
      "cell_type": "code",
      "source": [
        "questions_train"
      ],
      "metadata": {
        "colab": {
          "base_uri": "https://localhost:8080/"
        },
        "id": "10lS9PUihLjm",
        "outputId": "3b5edc03-530b-424b-c33e-f99c3aa03e97"
      },
      "execution_count": 35,
      "outputs": [
        {
          "output_type": "execute_result",
          "data": {
            "text/plain": [
              "array([[ 0, 30, 34, 23, 32, 18],\n",
              "       [ 0, 30, 11, 23, 32, 31],\n",
              "       [ 0, 30, 11, 23, 32, 35],\n",
              "       ...,\n",
              "       [ 0, 30, 34, 23, 32, 18],\n",
              "       [ 0, 30, 33, 23, 32, 16],\n",
              "       [ 0, 30, 33, 23, 32, 27]], dtype=int32)"
            ]
          },
          "metadata": {},
          "execution_count": 35
        }
      ]
    },
    {
      "cell_type": "code",
      "source": [
        "answers_train"
      ],
      "metadata": {
        "colab": {
          "base_uri": "https://localhost:8080/"
        },
        "id": "kFpXbaoNhx9U",
        "outputId": "82f4403b-8211-4c8d-9927-4be108a9c7e4"
      },
      "execution_count": 36,
      "outputs": [
        {
          "output_type": "execute_result",
          "data": {
            "text/plain": [
              "array([[0., 0., 1., ..., 0., 0., 0.],\n",
              "       [0., 0., 1., ..., 0., 0., 0.],\n",
              "       [0., 0., 1., ..., 0., 0., 0.],\n",
              "       ...,\n",
              "       [0., 0., 1., ..., 0., 0., 0.],\n",
              "       [0., 0., 1., ..., 0., 0., 0.],\n",
              "       [0., 0., 0., ..., 0., 0., 0.]])"
            ]
          },
          "metadata": {},
          "execution_count": 36
        }
      ]
    },
    {
      "cell_type": "code",
      "source": [
        "len(answers_test)"
      ],
      "metadata": {
        "colab": {
          "base_uri": "https://localhost:8080/"
        },
        "id": "YnIx8P8Ehzlg",
        "outputId": "bed0cc19-73fb-466e-ccb8-d7ceb85960b3"
      },
      "execution_count": 37,
      "outputs": [
        {
          "output_type": "execute_result",
          "data": {
            "text/plain": [
              "1000"
            ]
          },
          "metadata": {},
          "execution_count": 37
        }
      ]
    },
    {
      "cell_type": "code",
      "source": [
        "sum(answers_test)"
      ],
      "metadata": {
        "colab": {
          "base_uri": "https://localhost:8080/"
        },
        "id": "kVxLSZeth8uX",
        "outputId": "11d0b5b5-2dc7-4e12-d649-5aa8dc08439c"
      },
      "execution_count": 38,
      "outputs": [
        {
          "output_type": "execute_result",
          "data": {
            "text/plain": [
              "array([  0.,   0., 503.,   0.,   0.,   0.,   0.,   0.,   0.,   0.,   0.,\n",
              "         0.,   0.,   0.,   0.,   0.,   0.,   0.,   0.,   0.,   0., 497.,\n",
              "         0.,   0.,   0.,   0.,   0.,   0.,   0.,   0.,   0.,   0.,   0.,\n",
              "         0.,   0.,   0.,   0.,   0.])"
            ]
          },
          "metadata": {},
          "execution_count": 38
        }
      ]
    },
    {
      "cell_type": "code",
      "source": [
        "#(max_story_len, batch_size) ==> scince we don't know the batch size, we use (max_story_len, ) to select it automaticaly\n",
        "input_sequence = tf.keras.layers.Input((max_story_len, ))\n",
        "question = tf.keras.layers.Input((max_question_length, ))"
      ],
      "metadata": {
        "id": "VLLk6CcniPJ3"
      },
      "execution_count": 39,
      "outputs": []
    },
    {
      "cell_type": "code",
      "source": [
        "vocab_len = len(vocab) + 1 "
      ],
      "metadata": {
        "id": "nKRCJuqWxmz4"
      },
      "execution_count": 40,
      "outputs": []
    },
    {
      "cell_type": "markdown",
      "source": [
        "###Input Encoder M"
      ],
      "metadata": {
        "id": "H8vwj5f9xxOA"
      }
    },
    {
      "cell_type": "code",
      "source": [
        "input_encoder_m = tf.keras.models.Sequential()\n",
        "input_encoder_m.add(tf.keras.layers.Embedding(input_dim=vocab_len, output_dim=64))\n",
        "input_encoder_m.add(tf.keras.layers.Dropout(0.3))\n",
        "\n",
        "#(samples, story_maxlen, embedding_dim)"
      ],
      "metadata": {
        "id": "Q7qgV1mtynRT"
      },
      "execution_count": 41,
      "outputs": []
    },
    {
      "cell_type": "markdown",
      "source": [
        "###Input Encoder C"
      ],
      "metadata": {
        "id": "eDMX8NczyXc7"
      }
    },
    {
      "cell_type": "code",
      "source": [
        "input_encoder_c = tf.keras.models.Sequential()\n",
        "input_encoder_c.add(tf.keras.layers.Embedding(input_dim=vocab_len, output_dim=max_question_length))\n",
        "input_encoder_c.add(tf.keras.layers.Dropout(0.3))\n",
        "\n",
        "#(samples, story_maxlen, max_question_len)"
      ],
      "metadata": {
        "id": "TXmX1kTcyU0k"
      },
      "execution_count": 42,
      "outputs": []
    },
    {
      "cell_type": "markdown",
      "source": [
        "###Question Encoder"
      ],
      "metadata": {
        "id": "Wz4-S19Ty8O6"
      }
    },
    {
      "cell_type": "code",
      "source": [
        "question_encoder = tf.keras.models.Sequential()\n",
        "question_encoder.add(tf.keras.layers.Embedding(input_dim=vocab_len, output_dim=64, input_length=max_question_length))\n",
        "question_encoder.add(tf.keras.layers.Dropout(0.3))\n",
        "\n",
        "#(samples, query_maxlen, embedding_len)"
      ],
      "metadata": {
        "id": "XVeMBLNLyeXv"
      },
      "execution_count": 43,
      "outputs": []
    },
    {
      "cell_type": "code",
      "source": [
        "input_encoded_m = input_encoder_m(input_sequence)\n",
        "input_encoded_c = input_encoder_c(input_sequence)\n",
        "question_encoded = question_encoder(question)"
      ],
      "metadata": {
        "id": "CXhscw60zJiG"
      },
      "execution_count": 44,
      "outputs": []
    },
    {
      "cell_type": "code",
      "source": [
        "match = tf.keras.layers.dot([input_encoded_m, question_encoded], axes=(2, 2))\n",
        "match = tf.keras.layers.Activation('softmax')(match)"
      ],
      "metadata": {
        "id": "sqpMSpkD4Dc-"
      },
      "execution_count": 45,
      "outputs": []
    },
    {
      "cell_type": "code",
      "source": [
        "match.shape"
      ],
      "metadata": {
        "colab": {
          "base_uri": "https://localhost:8080/"
        },
        "id": "Pt2aqVo9481y",
        "outputId": "fddc8579-4ea2-4439-a8bc-1089010866d1"
      },
      "execution_count": 46,
      "outputs": [
        {
          "output_type": "execute_result",
          "data": {
            "text/plain": [
              "TensorShape([None, 156, 6])"
            ]
          },
          "metadata": {},
          "execution_count": 46
        }
      ]
    },
    {
      "cell_type": "code",
      "source": [
        "response = tf.keras.layers.add([match, input_encoded_c])\n",
        "response = tf.keras.layers.Permute((2, 1))(response)"
      ],
      "metadata": {
        "id": "dsmqDczJ4ghl"
      },
      "execution_count": 47,
      "outputs": []
    },
    {
      "cell_type": "code",
      "source": [
        "response.shape"
      ],
      "metadata": {
        "colab": {
          "base_uri": "https://localhost:8080/"
        },
        "id": "9WGcO6ER46eg",
        "outputId": "ece31990-cc17-4ae8-9309-b9eee2f6c0b0"
      },
      "execution_count": 48,
      "outputs": [
        {
          "output_type": "execute_result",
          "data": {
            "text/plain": [
              "TensorShape([None, 6, 156])"
            ]
          },
          "metadata": {},
          "execution_count": 48
        }
      ]
    },
    {
      "cell_type": "code",
      "source": [
        "answer = tf.keras.layers.concatenate([response, question_encoded])"
      ],
      "metadata": {
        "id": "axAUSQil5AFl"
      },
      "execution_count": 49,
      "outputs": []
    },
    {
      "cell_type": "code",
      "source": [
        "answer"
      ],
      "metadata": {
        "colab": {
          "base_uri": "https://localhost:8080/"
        },
        "id": "JuptBieE5Jsf",
        "outputId": "b2cb6810-1a76-4945-c98b-6acf44e560b1"
      },
      "execution_count": 50,
      "outputs": [
        {
          "output_type": "execute_result",
          "data": {
            "text/plain": [
              "<KerasTensor: shape=(None, 6, 220) dtype=float32 (created by layer 'concatenate')>"
            ]
          },
          "metadata": {},
          "execution_count": 50
        }
      ]
    },
    {
      "cell_type": "code",
      "source": [
        "answer.shape"
      ],
      "metadata": {
        "colab": {
          "base_uri": "https://localhost:8080/"
        },
        "id": "fLaAsZnF5KyX",
        "outputId": "8d9d4922-ab1d-490c-95ed-abb958da7a52"
      },
      "execution_count": 51,
      "outputs": [
        {
          "output_type": "execute_result",
          "data": {
            "text/plain": [
              "TensorShape([None, 6, 220])"
            ]
          },
          "metadata": {},
          "execution_count": 51
        }
      ]
    },
    {
      "cell_type": "code",
      "source": [
        "answer = tf.keras.layers.LSTM(32)(answer)"
      ],
      "metadata": {
        "id": "EeY0kq__5NYy"
      },
      "execution_count": 52,
      "outputs": []
    },
    {
      "cell_type": "code",
      "source": [
        "answer = tf.keras.layers.Dropout(0.5)(answer)"
      ],
      "metadata": {
        "id": "Ea0xlF455Vk6"
      },
      "execution_count": 53,
      "outputs": []
    },
    {
      "cell_type": "code",
      "source": [
        "answer = tf.keras.layers.Dense(vocab_len)(answer)"
      ],
      "metadata": {
        "id": "lAc-MpoI5Zwq"
      },
      "execution_count": 54,
      "outputs": []
    },
    {
      "cell_type": "code",
      "source": [
        "answer = tf.keras.layers.Activation('softmax')(answer)"
      ],
      "metadata": {
        "id": "vfiU6Sdm5e7W"
      },
      "execution_count": 55,
      "outputs": []
    },
    {
      "cell_type": "code",
      "source": [
        "model = tf.keras.models.Model([input_sequence, question], answer)"
      ],
      "metadata": {
        "id": "huO3CqXU5i7S"
      },
      "execution_count": 56,
      "outputs": []
    },
    {
      "cell_type": "code",
      "source": [
        "model.compile(optimizer = 'rmsprop',\n",
        "              loss = 'categorical_crossentropy',\n",
        "              metrics=['accuracy'])"
      ],
      "metadata": {
        "id": "EjgluXfH5n7l"
      },
      "execution_count": 57,
      "outputs": []
    },
    {
      "cell_type": "code",
      "source": [
        "model.summary()"
      ],
      "metadata": {
        "colab": {
          "base_uri": "https://localhost:8080/"
        },
        "id": "dJBPrXxs55sN",
        "outputId": "dcd113fd-f3f2-40f6-8f19-c3f45debf94f"
      },
      "execution_count": 58,
      "outputs": [
        {
          "output_type": "stream",
          "name": "stdout",
          "text": [
            "Model: \"model\"\n",
            "__________________________________________________________________________________________________\n",
            " Layer (type)                   Output Shape         Param #     Connected to                     \n",
            "==================================================================================================\n",
            " input_1 (InputLayer)           [(None, 156)]        0           []                               \n",
            "                                                                                                  \n",
            " input_2 (InputLayer)           [(None, 6)]          0           []                               \n",
            "                                                                                                  \n",
            " sequential (Sequential)        (None, None, 64)     2432        ['input_1[0][0]']                \n",
            "                                                                                                  \n",
            " sequential_2 (Sequential)      (None, 6, 64)        2432        ['input_2[0][0]']                \n",
            "                                                                                                  \n",
            " dot (Dot)                      (None, 156, 6)       0           ['sequential[0][0]',             \n",
            "                                                                  'sequential_2[0][0]']           \n",
            "                                                                                                  \n",
            " activation (Activation)        (None, 156, 6)       0           ['dot[0][0]']                    \n",
            "                                                                                                  \n",
            " sequential_1 (Sequential)      (None, None, 6)      228         ['input_1[0][0]']                \n",
            "                                                                                                  \n",
            " add (Add)                      (None, 156, 6)       0           ['activation[0][0]',             \n",
            "                                                                  'sequential_1[0][0]']           \n",
            "                                                                                                  \n",
            " permute (Permute)              (None, 6, 156)       0           ['add[0][0]']                    \n",
            "                                                                                                  \n",
            " concatenate (Concatenate)      (None, 6, 220)       0           ['permute[0][0]',                \n",
            "                                                                  'sequential_2[0][0]']           \n",
            "                                                                                                  \n",
            " lstm (LSTM)                    (None, 32)           32384       ['concatenate[0][0]']            \n",
            "                                                                                                  \n",
            " dropout_3 (Dropout)            (None, 32)           0           ['lstm[0][0]']                   \n",
            "                                                                                                  \n",
            " dense (Dense)                  (None, 38)           1254        ['dropout_3[0][0]']              \n",
            "                                                                                                  \n",
            " activation_1 (Activation)      (None, 38)           0           ['dense[0][0]']                  \n",
            "                                                                                                  \n",
            "==================================================================================================\n",
            "Total params: 38,730\n",
            "Trainable params: 38,730\n",
            "Non-trainable params: 0\n",
            "__________________________________________________________________________________________________\n"
          ]
        }
      ]
    },
    {
      "cell_type": "code",
      "source": [
        "history = model.fit([inputs_train, questions_train],\n",
        "                    answers_train,\n",
        "                    batch_size=32, \n",
        "                    epochs=10,\n",
        "                    validation_data=([inputs_test, questions_test], answers_test))"
      ],
      "metadata": {
        "colab": {
          "base_uri": "https://localhost:8080/"
        },
        "id": "zLIw-7wh56ug",
        "outputId": "2eca00e6-bacc-4fe9-cfda-48f24d7f682b"
      },
      "execution_count": 59,
      "outputs": [
        {
          "output_type": "stream",
          "name": "stdout",
          "text": [
            "Epoch 1/10\n",
            "313/313 [==============================] - 9s 20ms/step - loss: 0.9042 - accuracy: 0.4966 - val_loss: 0.6951 - val_accuracy: 0.5030\n",
            "Epoch 2/10\n",
            "313/313 [==============================] - 6s 18ms/step - loss: 0.7041 - accuracy: 0.5059 - val_loss: 0.6942 - val_accuracy: 0.4970\n",
            "Epoch 3/10\n",
            "313/313 [==============================] - 6s 20ms/step - loss: 0.6968 - accuracy: 0.5001 - val_loss: 0.6946 - val_accuracy: 0.5030\n",
            "Epoch 4/10\n",
            "313/313 [==============================] - 9s 30ms/step - loss: 0.6956 - accuracy: 0.4924 - val_loss: 0.6933 - val_accuracy: 0.5030\n",
            "Epoch 5/10\n",
            "313/313 [==============================] - 7s 22ms/step - loss: 0.6944 - accuracy: 0.5039 - val_loss: 0.6935 - val_accuracy: 0.5030\n",
            "Epoch 6/10\n",
            "313/313 [==============================] - 5s 17ms/step - loss: 0.6942 - accuracy: 0.5051 - val_loss: 0.6935 - val_accuracy: 0.5030\n",
            "Epoch 7/10\n",
            "313/313 [==============================] - 5s 17ms/step - loss: 0.6941 - accuracy: 0.5037 - val_loss: 0.6935 - val_accuracy: 0.4830\n",
            "Epoch 8/10\n",
            "313/313 [==============================] - 6s 18ms/step - loss: 0.6923 - accuracy: 0.5128 - val_loss: 0.6899 - val_accuracy: 0.5370\n",
            "Epoch 9/10\n",
            "313/313 [==============================] - 5s 17ms/step - loss: 0.6744 - accuracy: 0.5795 - val_loss: 0.6576 - val_accuracy: 0.5930\n",
            "Epoch 10/10\n",
            "313/313 [==============================] - 6s 20ms/step - loss: 0.6196 - accuracy: 0.6631 - val_loss: 0.5903 - val_accuracy: 0.6940\n"
          ]
        }
      ]
    },
    {
      "cell_type": "code",
      "source": [
        "def plot_history(hist, name='accuracy'):\n",
        "  train_hist = hist.history[name]\n",
        "  val_hist = hist.history[f'val_{name}']\n",
        "  plt.plot(train_hist)\n",
        "  plt.plot(val_hist)\n",
        "  plt.title(f'Model {name}')\n",
        "  plt.xlabel('epoch')\n",
        "  plt.ylabel(name)\n",
        "  plt.legend(['Train', 'Validation'])\n",
        "  plt.show()"
      ],
      "metadata": {
        "id": "rqN80P9l602N"
      },
      "execution_count": 65,
      "outputs": []
    },
    {
      "cell_type": "code",
      "source": [
        "plot_history(history, name='loss')"
      ],
      "metadata": {
        "colab": {
          "base_uri": "https://localhost:8080/",
          "height": 295
        },
        "id": "TkeDI6Zu9lo1",
        "outputId": "2235a1f2-f9eb-44a9-d4d6-f48c757d0a25"
      },
      "execution_count": 66,
      "outputs": [
        {
          "output_type": "display_data",
          "data": {
            "text/plain": [
              "<Figure size 432x288 with 1 Axes>"
            ],
            "image/png": "[encoded data removed]"
          },
          "metadata": {
            "needs_background": "light"
          }
        }
      ]
    },
    {
      "cell_type": "code",
      "source": [
        "plot_history(history)"
      ],
      "metadata": {
        "colab": {
          "base_uri": "https://localhost:8080/",
          "height": 295
        },
        "id": "x_1cbH6Z_Ews",
        "outputId": "35d2a446-d8b4-4a0a-e4e7-72006985673d"
      },
      "execution_count": 67,
      "outputs": [
        {
          "output_type": "display_data",
          "data": {
            "text/plain": [
              "<Figure size 432x288 with 1 Axes>"
            ],
            "image/png": "[encoded data removed]"
          },
          "metadata": {
            "needs_background": "light"
          }
        }
      ]
    },
    {
      "cell_type": "code",
      "source": [
        "model.save('my_model.h5')"
      ],
      "metadata": {
        "id": "QGnJoYRV9z41"
      },
      "execution_count": 68,
      "outputs": []
    },
    {
      "cell_type": "code",
      "source": [
        "pred_results = model.predict(([inputs_test, questions_test]))"
      ],
      "metadata": {
        "id": "lCD6utba-b_Q"
      },
      "execution_count": 69,
      "outputs": []
    },
    {
      "cell_type": "code",
      "source": [
        "pred_results"
      ],
      "metadata": {
        "colab": {
          "base_uri": "https://localhost:8080/"
        },
        "id": "i6RCWyv__KuC",
        "outputId": "1489fd74-0382-4d66-fcb7-93d834c2babc"
      },
      "execution_count": 70,
      "outputs": [
        {
          "output_type": "execute_result",
          "data": {
            "text/plain": [
              "array([[2.67440203e-09, 2.33089370e-09, 4.99573708e-01, ...,\n",
              "        3.21732352e-09, 3.51310270e-09, 2.89508462e-09],\n",
              "       [2.22387886e-10, 1.85963092e-10, 6.54822826e-01, ...,\n",
              "        2.33540659e-10, 3.34206302e-10, 2.55229782e-10],\n",
              "       [5.35140855e-11, 8.21205673e-11, 2.67652065e-01, ...,\n",
              "        6.07058223e-11, 6.82675791e-11, 6.27276356e-11],\n",
              "       ...,\n",
              "       [5.81008186e-10, 6.06855399e-10, 3.30359519e-01, ...,\n",
              "        6.91758983e-10, 8.75242878e-10, 6.83298251e-10],\n",
              "       [6.02023154e-11, 9.95638225e-11, 2.50060022e-01, ...,\n",
              "        7.05205686e-11, 7.03813466e-11, 6.97541677e-11],\n",
              "       [1.01625632e-10, 1.21220256e-10, 4.48987931e-01, ...,\n",
              "        1.19050367e-10, 1.22240926e-10, 1.13630064e-10]], dtype=float32)"
            ]
          },
          "metadata": {},
          "execution_count": 70
        }
      ]
    },
    {
      "cell_type": "code",
      "source": [
        ""
      ],
      "metadata": {
        "id": "eTd11Ula_Md9"
      },
      "execution_count": null,
      "outputs": []
    }
  ]
}